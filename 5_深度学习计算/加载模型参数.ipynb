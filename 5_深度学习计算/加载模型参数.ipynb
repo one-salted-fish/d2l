{
 "cells": [
  {
   "cell_type": "markdown",
   "source": [
    "pytorch 并不能存储模型的结构，只能存储模型的参数"
   ],
   "metadata": {}
  },
  {
   "cell_type": "markdown",
   "source": [
    "1. 加载和保存张量"
   ],
   "metadata": {}
  },
  {
   "cell_type": "code",
   "execution_count": 1,
   "source": [
    "import torch\r\n",
    "from torch import nn\r\n",
    "from torch.nn import functional as F\r\n",
    "\r\n",
    "x = torch.arange(4)\r\n",
    "torch.save(x, 'x-file') # 将张量存储起来"
   ],
   "outputs": [],
   "metadata": {}
  },
  {
   "cell_type": "code",
   "execution_count": 2,
   "source": [
    "x2 = torch.load('x-file')\r\n",
    "x2"
   ],
   "outputs": [
    {
     "output_type": "execute_result",
     "data": {
      "text/plain": [
       "tensor([0, 1, 2, 3])"
      ]
     },
     "metadata": {},
     "execution_count": 2
    }
   ],
   "metadata": {}
  },
  {
   "cell_type": "code",
   "execution_count": 3,
   "source": [
    "y = torch.zeros(4)\r\n",
    "torch.save([x, y], 'x-files')   # 可以存储张量列表\r\n",
    "x2, y2 = torch.load('x-files')\r\n",
    "(x2, y2)"
   ],
   "outputs": [
    {
     "output_type": "execute_result",
     "data": {
      "text/plain": [
       "(tensor([0, 1, 2, 3]), tensor([0., 0., 0., 0.]))"
      ]
     },
     "metadata": {},
     "execution_count": 3
    }
   ],
   "metadata": {}
  },
  {
   "cell_type": "code",
   "execution_count": 4,
   "source": [
    "mydict = {'x': x, 'y': y}\r\n",
    "torch.save(mydict, 'mydict')    # 可以存储张量字典\r\n",
    "mydict2 = torch.load('mydict')\r\n",
    "mydict2"
   ],
   "outputs": [
    {
     "output_type": "execute_result",
     "data": {
      "text/plain": [
       "{'x': tensor([0, 1, 2, 3]), 'y': tensor([0., 0., 0., 0.])}"
      ]
     },
     "metadata": {},
     "execution_count": 4
    }
   ],
   "metadata": {}
  },
  {
   "cell_type": "markdown",
   "source": [
    "2. 加载和保存模型张量"
   ],
   "metadata": {}
  },
  {
   "cell_type": "code",
   "execution_count": 5,
   "source": [
    "class MLP(nn.Module):\r\n",
    "    def __init__(self):\r\n",
    "        super().__init__()\r\n",
    "        self.hidden = nn.Linear(20, 256)\r\n",
    "        self.output = nn.Linear(256, 10)\r\n",
    "    \r\n",
    "    def forward(self, X):\r\n",
    "        return self.output(F.relu(self.hidden(X)))\r\n",
    "\r\n",
    "net = MLP()\r\n",
    "X = torch.rand(2, 20)\r\n",
    "Y = net(X)"
   ],
   "outputs": [],
   "metadata": {}
  },
  {
   "cell_type": "code",
   "execution_count": 6,
   "source": [
    "torch.save(net.state_dict(), 'mlp.params')"
   ],
   "outputs": [],
   "metadata": {}
  },
  {
   "cell_type": "code",
   "execution_count": 7,
   "source": [
    "clone = MLP()\r\n",
    "clone.load_state_dict(torch.load('mlp.params'))\r\n",
    "clone.eval()"
   ],
   "outputs": [
    {
     "output_type": "execute_result",
     "data": {
      "text/plain": [
       "MLP(\n",
       "  (hidden): Linear(in_features=20, out_features=256, bias=True)\n",
       "  (output): Linear(in_features=256, out_features=10, bias=True)\n",
       ")"
      ]
     },
     "metadata": {},
     "execution_count": 7
    }
   ],
   "metadata": {}
  },
  {
   "cell_type": "code",
   "execution_count": 8,
   "source": [
    "Y_clone = clone(X)\r\n",
    "Y_clone == Y"
   ],
   "outputs": [
    {
     "output_type": "execute_result",
     "data": {
      "text/plain": [
       "tensor([[True, True, True, True, True, True, True, True, True, True],\n",
       "        [True, True, True, True, True, True, True, True, True, True]])"
      ]
     },
     "metadata": {},
     "execution_count": 8
    }
   ],
   "metadata": {}
  }
 ],
 "metadata": {
  "orig_nbformat": 4,
  "language_info": {
   "name": "python",
   "version": "3.8.5",
   "mimetype": "text/x-python",
   "codemirror_mode": {
    "name": "ipython",
    "version": 3
   },
   "pygments_lexer": "ipython3",
   "nbconvert_exporter": "python",
   "file_extension": ".py"
  },
  "kernelspec": {
   "name": "python3",
   "display_name": "Python 3.8.5 64-bit ('d2l': conda)"
  },
  "interpreter": {
   "hash": "79f87afa472d0632e2328351e62237a72635958f39bb47ba71eef21dafdaa998"
  }
 },
 "nbformat": 4,
 "nbformat_minor": 2
}