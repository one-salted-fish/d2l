{
 "cells": [
  {
   "cell_type": "code",
   "execution_count": 7,
   "source": [
    "import torch\r\n",
    "from torch import nn\r\n",
    "from torch.nn import functional as F\r\n",
    "\r\n",
    "X = torch.rand(2, 20)"
   ],
   "outputs": [],
   "metadata": {}
  },
  {
   "cell_type": "code",
   "execution_count": 9,
   "source": [
    "class MLP(nn.Module):\r\n",
    "    def __init__(self):\r\n",
    "        super().__init__()\r\n",
    "        self.hidden = nn.Linear(20, 256)    # 隐藏层\r\n",
    "        self.out = nn.Linear(256, 10)   # 输出层\r\n",
    "    \r\n",
    "    def forward(self, X):\r\n",
    "        return self.out(F.relu(self.hidden(X)))\r\n",
    "\r\n",
    "net = MLP()\r\n",
    "net(X)"
   ],
   "outputs": [
    {
     "output_type": "execute_result",
     "data": {
      "text/plain": [
       "tensor([[-0.0865, -0.3266, -0.0621,  0.0126, -0.1579,  0.2711, -0.1746, -0.0170,\n",
       "          0.0413, -0.1582],\n",
       "        [-0.0683, -0.1974, -0.0465,  0.1146, -0.1227,  0.2697, -0.0941,  0.0672,\n",
       "          0.0391, -0.1280]], grad_fn=<AddmmBackward>)"
      ]
     },
     "metadata": {},
     "execution_count": 9
    }
   ],
   "metadata": {}
  },
  {
   "cell_type": "code",
   "execution_count": 10,
   "source": [
    "class MySequential(nn.Module):\r\n",
    "    def __init__(self, *args):\r\n",
    "        super().__init__()\r\n",
    "        for block in args:\r\n",
    "            self._modules[block] = block\r\n",
    "    \r\n",
    "    def forward(self, X):\r\n",
    "        for block in self._modules.values():\r\n",
    "            X = block(X)\r\n",
    "        return X\r\n",
    "\r\n",
    "net = MySequential(nn.Linear(20, 256), nn.ReLU(), nn.Linear(256, 10))\r\n",
    "net(X)"
   ],
   "outputs": [
    {
     "output_type": "execute_result",
     "data": {
      "text/plain": [
       "tensor([[-0.0149,  0.1943, -0.0874, -0.4787,  0.0006, -0.2449, -0.1600,  0.1329,\n",
       "          0.0088, -0.2312],\n",
       "        [-0.0819,  0.1719, -0.1735, -0.3787, -0.0147, -0.3401, -0.0255,  0.0533,\n",
       "          0.0407, -0.2348]], grad_fn=<AddmmBackward>)"
      ]
     },
     "metadata": {},
     "execution_count": 10
    }
   ],
   "metadata": {}
  },
  {
   "cell_type": "code",
   "execution_count": 11,
   "source": [
    "class FixedHiddenMLP(nn.Module):\r\n",
    "    def __init__(self):\r\n",
    "        super().__init__()\r\n",
    "        self.rand_weight = torch.rand((20, 20), requires_grad=False)    # 该层不进行梯度的反向传播\r\n",
    "        self.linear = nn.Linear(20, 20)\r\n",
    "    \r\n",
    "    def forward(self, X):\r\n",
    "        X = self.linear(X)  # 可以实现不同层之间的参数共享\r\n",
    "        X = F.relu(torch.mm(X, self.rand_weight) + 1)\r\n",
    "        X = self.linear(X)  # 可以实现不同层之间的参数共享\r\n",
    "        while X.abs().sum() > 1:\r\n",
    "            X /= 2\r\n",
    "        return X.sum()\r\n",
    "\r\n",
    "net = FixedHiddenMLP()\r\n",
    "net(X)"
   ],
   "outputs": [
    {
     "output_type": "execute_result",
     "data": {
      "text/plain": [
       "tensor(0.0096, grad_fn=<SumBackward0>)"
      ]
     },
     "metadata": {},
     "execution_count": 11
    }
   ],
   "metadata": {}
  },
  {
   "cell_type": "code",
   "execution_count": 12,
   "source": [
    "class NestMLP(nn.Module):\r\n",
    "    def __init__(self):\r\n",
    "        super().__init__()\r\n",
    "        self.net = nn.Sequential(nn.Linear(20, 64), nn.ReLU(), \r\n",
    "                                nn.Linear(64, 32), nn.ReLU())\r\n",
    "        self.linear = nn.Linear(32, 16)\r\n",
    "    \r\n",
    "    def forward(self, X):\r\n",
    "        return self.linear(self.net(X))\r\n",
    "\r\n",
    "chimera = nn.Sequential(NestMLP(), nn.Linear(16, 20), FixedHiddenMLP())\r\n",
    "chimera(X)"
   ],
   "outputs": [
    {
     "output_type": "execute_result",
     "data": {
      "text/plain": [
       "tensor(-0.1581, grad_fn=<SumBackward0>)"
      ]
     },
     "metadata": {},
     "execution_count": 12
    }
   ],
   "metadata": {}
  }
 ],
 "metadata": {
  "orig_nbformat": 4,
  "language_info": {
   "name": "python",
   "version": "3.8.5",
   "mimetype": "text/x-python",
   "codemirror_mode": {
    "name": "ipython",
    "version": 3
   },
   "pygments_lexer": "ipython3",
   "nbconvert_exporter": "python",
   "file_extension": ".py"
  },
  "kernelspec": {
   "name": "python3",
   "display_name": "Python 3.8.5 64-bit ('d2l': conda)"
  },
  "interpreter": {
   "hash": "79f87afa472d0632e2328351e62237a72635958f39bb47ba71eef21dafdaa998"
  }
 },
 "nbformat": 4,
 "nbformat_minor": 2
}