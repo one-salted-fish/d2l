{
 "cells": [
  {
   "cell_type": "markdown",
   "source": [
    "第一种：不带参数的层"
   ],
   "metadata": {}
  },
  {
   "cell_type": "code",
   "execution_count": 1,
   "source": [
    "import torch\r\n",
    "import torch.nn.functional as F\r\n",
    "from torch import  nn"
   ],
   "outputs": [],
   "metadata": {}
  },
  {
   "cell_type": "code",
   "execution_count": 2,
   "source": [
    "class CenterLyear(nn.Module):   # 定义一个数据中心化的层\r\n",
    "    def __init__(self):\r\n",
    "        super().__init__()\r\n",
    "    \r\n",
    "    def forward(self, X):\r\n",
    "        return X - X.mean()"
   ],
   "outputs": [],
   "metadata": {}
  },
  {
   "cell_type": "code",
   "execution_count": 3,
   "source": [
    "layer = CenterLyear()\r\n",
    "layer(torch.FloatTensor([1, 2, 3, 4, 5]))"
   ],
   "outputs": [
    {
     "output_type": "execute_result",
     "data": {
      "text/plain": [
       "tensor([-2., -1.,  0.,  1.,  2.])"
      ]
     },
     "metadata": {},
     "execution_count": 3
    }
   ],
   "metadata": {}
  },
  {
   "cell_type": "code",
   "execution_count": 4,
   "source": [
    "net = nn.Sequential(nn.Linear(8, 128), CenterLyear())\r\n",
    "Y = net(torch.rand(4, 8))\r\n",
    "Y.mean()"
   ],
   "outputs": [
    {
     "output_type": "execute_result",
     "data": {
      "text/plain": [
       "tensor(3.7253e-09, grad_fn=<MeanBackward0>)"
      ]
     },
     "metadata": {},
     "execution_count": 4
    }
   ],
   "metadata": {}
  },
  {
   "cell_type": "markdown",
   "source": [
    "第二种：带参数的层，例如定义自己的线性层"
   ],
   "metadata": {}
  },
  {
   "cell_type": "code",
   "execution_count": 5,
   "source": [
    "class MyLinear(nn.Module):\r\n",
    "    def __init__(self, in_units, units):\r\n",
    "        super().__init__()\r\n",
    "        self.weight = nn.Parameter(torch.randn(in_units, units))    # weight和bias都要设置为nn.Parameter\r\n",
    "        self.bias = nn.Parameter(torch.zeros(units))\r\n",
    "    def forward(self, X):\r\n",
    "        linear = torch.matmul(X, self.weight.data) + self.bias.data\r\n",
    "        return F.relu(linear)   # 和模型自带的线性层不同我们这里集成了RELU层"
   ],
   "outputs": [],
   "metadata": {}
  },
  {
   "cell_type": "code",
   "execution_count": 6,
   "source": [
    "linear = MyLinear(5, 3)\r\n",
    "linear.weight"
   ],
   "outputs": [
    {
     "output_type": "execute_result",
     "data": {
      "text/plain": [
       "Parameter containing:\n",
       "tensor([[-0.3818, -0.3641,  0.1131],\n",
       "        [ 0.4957, -0.7303, -1.2564],\n",
       "        [-0.9770,  1.5210, -0.2411],\n",
       "        [-2.9365,  0.8603,  1.4928],\n",
       "        [-0.1687,  0.4447, -1.1634]], requires_grad=True)"
      ]
     },
     "metadata": {},
     "execution_count": 6
    }
   ],
   "metadata": {}
  },
  {
   "cell_type": "code",
   "execution_count": 26,
   "source": [
    "linear(torch.rand(2, 5))"
   ],
   "outputs": [
    {
     "output_type": "execute_result",
     "data": {
      "text/plain": [
       "tensor([[0.0000, 1.7320, 0.0000],\n",
       "        [0.0000, 0.7384, 0.0000]])"
      ]
     },
     "metadata": {},
     "execution_count": 26
    }
   ],
   "metadata": {}
  },
  {
   "cell_type": "code",
   "execution_count": 28,
   "source": [
    "net = nn.Sequential(MyLinear(64, 8), MyLinear(8, 1))\r\n",
    "net(torch.rand(2, 64))"
   ],
   "outputs": [
    {
     "output_type": "execute_result",
     "data": {
      "text/plain": [
       "tensor([[13.2326],\n",
       "        [15.0390]])"
      ]
     },
     "metadata": {},
     "execution_count": 28
    }
   ],
   "metadata": {}
  }
 ],
 "metadata": {
  "orig_nbformat": 4,
  "language_info": {
   "name": "python",
   "version": "3.8.5",
   "mimetype": "text/x-python",
   "codemirror_mode": {
    "name": "ipython",
    "version": 3
   },
   "pygments_lexer": "ipython3",
   "nbconvert_exporter": "python",
   "file_extension": ".py"
  },
  "kernelspec": {
   "name": "python3",
   "display_name": "Python 3.8.5 64-bit ('d2l': conda)"
  },
  "interpreter": {
   "hash": "79f87afa472d0632e2328351e62237a72635958f39bb47ba71eef21dafdaa998"
  }
 },
 "nbformat": 4,
 "nbformat_minor": 2
}