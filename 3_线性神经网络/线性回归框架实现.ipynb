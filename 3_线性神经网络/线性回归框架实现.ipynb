{
 "cells": [
  {
   "cell_type": "code",
   "execution_count": 12,
   "source": [
    "import numpy as np\r\n",
    "import torch\r\n",
    "from torch.utils import data    # 数据处理模块\r\n",
    "from d2l import torch as d2l\r\n",
    "\r\n",
    "true_w = torch.tensor([2, -3.4])\r\n",
    "true_b = 4.2\r\n",
    "features, labels = d2l.synthetic_data(true_w, true_b, 1000) # 生成随机数据"
   ],
   "outputs": [],
   "metadata": {}
  },
  {
   "cell_type": "code",
   "execution_count": 13,
   "source": [
    "def load_array(data_arrays, batch_size, is_train=True): #@save\r\n",
    "    \"\"\"构造一个 pytorch 数据迭代器\"\"\"\r\n",
    "    dataset = data.TensorDataset(*data_arrays)  # 封装成一个pytorch的dataset\r\n",
    "    return data.DataLoader(dataset, batch_size, shuffle=is_train)   # 从dataset中load一个batch的数据\r\n",
    "\r\n",
    "batch_size = 10\r\n",
    "data_iter = load_array((features, labels), batch_size)  # 生成一个batch大小的数据迭代器"
   ],
   "outputs": [],
   "metadata": {}
  },
  {
   "cell_type": "code",
   "execution_count": 14,
   "source": [
    "next(iter(data_iter))   # 验证迭代器是否正常工作\r\n",
    "# 可以看到每个迭代器中确实有10个（batch大小）数据"
   ],
   "outputs": [
    {
     "output_type": "execute_result",
     "data": {
      "text/plain": [
       "[tensor([[ 1.1291,  0.4546],\n",
       "         [-0.1280,  0.8696],\n",
       "         [ 1.4561,  0.2407],\n",
       "         [ 0.7781,  0.7423],\n",
       "         [ 1.9805,  0.7353],\n",
       "         [ 0.3977, -1.0500],\n",
       "         [-0.6241,  0.6246],\n",
       "         [-0.2564,  0.4527],\n",
       "         [ 0.6337,  0.0589],\n",
       "         [-1.0256, -1.1859]]),\n",
       " tensor([[4.9049],\n",
       "         [0.9851],\n",
       "         [6.2891],\n",
       "         [3.2514],\n",
       "         [5.6718],\n",
       "         [8.5643],\n",
       "         [0.8248],\n",
       "         [2.1676],\n",
       "         [5.2704],\n",
       "         [6.1878]])]"
      ]
     },
     "metadata": {},
     "execution_count": 14
    }
   ],
   "metadata": {}
  },
  {
   "cell_type": "code",
   "execution_count": 15,
   "source": [
    "# sequential是一个装载多个串联神经网络层的容器\r\n",
    "from torch import nn\r\n",
    "\r\n",
    "net = nn.Sequential(nn.Linear(2, 1))\r\n",
    "# 只有一个线性层（全连接层），参数：输入特征形状、输出特征形状"
   ],
   "outputs": [],
   "metadata": {}
  },
  {
   "cell_type": "code",
   "execution_count": 16,
   "source": [
    "# 初始化模型参数\r\n",
    "net[0].weight.data.normal_(0, 0.01)\r\n",
    "net[0].bias.data.fill_(0)"
   ],
   "outputs": [
    {
     "output_type": "execute_result",
     "data": {
      "text/plain": [
       "tensor([0.])"
      ]
     },
     "metadata": {},
     "execution_count": 16
    }
   ],
   "metadata": {}
  },
  {
   "cell_type": "code",
   "execution_count": 20,
   "source": [
    "loss = nn.MSELoss()"
   ],
   "outputs": [],
   "metadata": {}
  },
  {
   "cell_type": "code",
   "execution_count": 21,
   "source": [
    "# optim模块中有许多sgd算法的变种\r\n",
    "trainer = torch.optim.SGD(net.parameters(), lr=0.03)"
   ],
   "outputs": [],
   "metadata": {}
  },
  {
   "cell_type": "code",
   "execution_count": 22,
   "source": [
    "num_epochs = 3\r\n",
    "\r\n",
    "for epoch in range(num_epochs):\r\n",
    "    for X, y in data_iter:\r\n",
    "        l = loss(net(X), y) # 计算loss\r\n",
    "        trainer.zero_grad() # 清除梯度\r\n",
    "        l.backward()        # 后向传播\r\n",
    "        trainer.step()      # 更新参数\r\n",
    "    l = loss(net(features), labels)\r\n",
    "    print(f'epoch {epoch+1}, loss {l:f}')"
   ],
   "outputs": [
    {
     "output_type": "stream",
     "name": "stdout",
     "text": [
      "epoch 1, loss 0.000429\n",
      "epoch 2, loss 0.000099\n",
      "epoch 3, loss 0.000097\n"
     ]
    }
   ],
   "metadata": {}
  },
  {
   "cell_type": "code",
   "execution_count": null,
   "source": [],
   "outputs": [],
   "metadata": {}
  }
 ],
 "metadata": {
  "orig_nbformat": 4,
  "language_info": {
   "name": "python",
   "version": "3.8.5",
   "mimetype": "text/x-python",
   "codemirror_mode": {
    "name": "ipython",
    "version": 3
   },
   "pygments_lexer": "ipython3",
   "nbconvert_exporter": "python",
   "file_extension": ".py"
  },
  "kernelspec": {
   "name": "python3",
   "display_name": "Python 3.8.5 64-bit ('d2l': conda)"
  },
  "interpreter": {
   "hash": "79f87afa472d0632e2328351e62237a72635958f39bb47ba71eef21dafdaa998"
  }
 },
 "nbformat": 4,
 "nbformat_minor": 2
}