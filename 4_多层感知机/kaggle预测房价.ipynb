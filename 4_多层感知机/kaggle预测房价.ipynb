{
 "cells": [
  {
   "cell_type": "code",
   "execution_count": 4,
   "source": [
    "%matplotlib inline\r\n",
    "import pandas as pd\r\n",
    "import numpy as np\r\n",
    "import torch\r\n",
    "from torch import nn\r\n",
    "from d2l import torch as d2l"
   ],
   "outputs": [],
   "metadata": {}
  },
  {
   "cell_type": "code",
   "execution_count": 6,
   "source": [
    "DATA_HUB['kaggle_house_train'] = (  #@save\r\n",
    "    DATA_URL + 'kaggle_house_pred_train.csv',\r\n",
    "    '585e9cc93e70b39160e7921475f9bcd7d31219ce')\r\n",
    "\r\n",
    "DATA_HUB['kaggle_house_test'] = (  #@save\r\n",
    "    DATA_URL + 'kaggle_house_pred_test.csv',\r\n",
    "    'fa19780a7b011d9b009e8bff8e99922a8ee2eb90')"
   ],
   "outputs": [],
   "metadata": {}
  },
  {
   "cell_type": "code",
   "execution_count": 7,
   "source": [
    "train_data = pd.read_csv(download('kaggle_house_train'))\r\n",
    "test_data = pd.read_csv(download('kaggle_house_test'))"
   ],
   "outputs": [
    {
     "output_type": "stream",
     "name": "stdout",
     "text": [
      "正在从http://d2l-data.s3-accelerate.amazonaws.com/kaggle_house_pred_train.csv下载..\\data\\kaggle_house_pred_train.csv...\n",
      "正在从http://d2l-data.s3-accelerate.amazonaws.com/kaggle_house_pred_test.csv下载..\\data\\kaggle_house_pred_test.csv...\n"
     ]
    }
   ],
   "metadata": {}
  },
  {
   "cell_type": "code",
   "execution_count": 8,
   "source": [
    "train_data.shape, test_data.shape\r\n",
    "# 训练数据集包括1460个样本，每个样本80个特征和1个标签\r\n",
    "# 而测试数据包含1459个样本，每个样本80个特征。"
   ],
   "outputs": [
    {
     "output_type": "execute_result",
     "data": {
      "text/plain": [
       "((1460, 81), (1459, 80))"
      ]
     },
     "metadata": {},
     "execution_count": 8
    }
   ],
   "metadata": {}
  },
  {
   "cell_type": "code",
   "execution_count": 9,
   "source": [
    "# 让我们看看前四个和最后两个特征，以及相应标签（房价）。\r\n",
    "train_data.iloc[0:4, [0, 1, 2, 3, -3, -2, -1]]"
   ],
   "outputs": [
    {
     "output_type": "execute_result",
     "data": {
      "text/html": [
       "<div>\n",
       "<style scoped>\n",
       "    .dataframe tbody tr th:only-of-type {\n",
       "        vertical-align: middle;\n",
       "    }\n",
       "\n",
       "    .dataframe tbody tr th {\n",
       "        vertical-align: top;\n",
       "    }\n",
       "\n",
       "    .dataframe thead th {\n",
       "        text-align: right;\n",
       "    }\n",
       "</style>\n",
       "<table border=\"1\" class=\"dataframe\">\n",
       "  <thead>\n",
       "    <tr style=\"text-align: right;\">\n",
       "      <th></th>\n",
       "      <th>Id</th>\n",
       "      <th>MSSubClass</th>\n",
       "      <th>MSZoning</th>\n",
       "      <th>LotFrontage</th>\n",
       "      <th>SaleType</th>\n",
       "      <th>SaleCondition</th>\n",
       "      <th>SalePrice</th>\n",
       "    </tr>\n",
       "  </thead>\n",
       "  <tbody>\n",
       "    <tr>\n",
       "      <th>0</th>\n",
       "      <td>1</td>\n",
       "      <td>60</td>\n",
       "      <td>RL</td>\n",
       "      <td>65.0</td>\n",
       "      <td>WD</td>\n",
       "      <td>Normal</td>\n",
       "      <td>208500</td>\n",
       "    </tr>\n",
       "    <tr>\n",
       "      <th>1</th>\n",
       "      <td>2</td>\n",
       "      <td>20</td>\n",
       "      <td>RL</td>\n",
       "      <td>80.0</td>\n",
       "      <td>WD</td>\n",
       "      <td>Normal</td>\n",
       "      <td>181500</td>\n",
       "    </tr>\n",
       "    <tr>\n",
       "      <th>2</th>\n",
       "      <td>3</td>\n",
       "      <td>60</td>\n",
       "      <td>RL</td>\n",
       "      <td>68.0</td>\n",
       "      <td>WD</td>\n",
       "      <td>Normal</td>\n",
       "      <td>223500</td>\n",
       "    </tr>\n",
       "    <tr>\n",
       "      <th>3</th>\n",
       "      <td>4</td>\n",
       "      <td>70</td>\n",
       "      <td>RL</td>\n",
       "      <td>60.0</td>\n",
       "      <td>WD</td>\n",
       "      <td>Abnorml</td>\n",
       "      <td>140000</td>\n",
       "    </tr>\n",
       "  </tbody>\n",
       "</table>\n",
       "</div>"
      ],
      "text/plain": [
       "   Id  MSSubClass MSZoning  LotFrontage SaleType SaleCondition  SalePrice\n",
       "0   1          60       RL         65.0       WD        Normal     208500\n",
       "1   2          20       RL         80.0       WD        Normal     181500\n",
       "2   3          60       RL         68.0       WD        Normal     223500\n",
       "3   4          70       RL         60.0       WD       Abnorml     140000"
      ]
     },
     "metadata": {},
     "execution_count": 9
    }
   ],
   "metadata": {}
  },
  {
   "cell_type": "code",
   "execution_count": 11,
   "source": [
    "# id对于预测无用，删掉。将训练与测试所有特征都放进来\r\n",
    "all_features = pd.concat((train_data.iloc[:, 1:-1], test_data.iloc[:, 1:]))"
   ],
   "outputs": [],
   "metadata": {}
  },
  {
   "cell_type": "code",
   "execution_count": 12,
   "source": [
    "# 数字特征进行标准化、处理缺失值\r\n",
    "numeric_features = all_features.dtypes[all_features.dtypes != 'object'].index\r\n",
    "all_features[numeric_features] = all_features[numeric_features].apply(\r\n",
    "    lambda x: (x - x.mean()) / (x.std()))\r\n",
    "all_features[numeric_features] = all_features[numeric_features].fillna(0)"
   ],
   "outputs": [],
   "metadata": {}
  },
  {
   "cell_type": "code",
   "execution_count": 13,
   "source": [
    "# 将非数字特征转化为one-hot编码\r\n",
    "# Dummy_na=True 将“na”（缺失值）视为有效的特征值，并为其创建指示符特征。\r\n",
    "all_features = pd.get_dummies(all_features, dummy_na=True)\r\n",
    "all_features.shape"
   ],
   "outputs": [
    {
     "output_type": "execute_result",
     "data": {
      "text/plain": [
       "(2919, 331)"
      ]
     },
     "metadata": {},
     "execution_count": 13
    }
   ],
   "metadata": {}
  },
  {
   "cell_type": "code",
   "execution_count": 14,
   "source": [
    "n_train = train_data.shape[0] # 得到训练数据个数\r\n",
    "train_features = torch.tensor(all_features[:n_train].values, dtype=d2l.float32)\r\n",
    "test_features = torch.tensor(all_features[n_train:].values, dtype=d2l.float32)\r\n",
    "train_labels = torch.tensor(    # 不懂这一句\r\n",
    "    train_data.SalePrice.values.reshape(-1, 1), dtype=d2l.float32)"
   ],
   "outputs": [],
   "metadata": {}
  },
  {
   "cell_type": "code",
   "execution_count": 15,
   "source": [
    "loss = nn.MSELoss()\r\n",
    "in_features = train_features.shape[1]   # 有多少种特征\r\n",
    "\r\n",
    "def get_net():\r\n",
    "    net = nn.Sequential(nn.Linear(in_features, 1))\r\n",
    "    return net"
   ],
   "outputs": [],
   "metadata": {}
  },
  {
   "cell_type": "code",
   "execution_count": 16,
   "source": [
    "# 我们不关心预测误差的绝对值，而是关心预测误差的相对值，一个做法是取log\r\n",
    "def log_rmse(net, features, labels):\r\n",
    "    # 为了在取对数时进一步稳定该值，将小于1的值设置为1\r\n",
    "    clipped_preds = torch.clamp(net(features), 1, float('inf'))\r\n",
    "    rmse = torch.sqrt(loss(torch.log(clipped_preds), torch.log(labels)))\r\n",
    "    return rmse.item()"
   ],
   "outputs": [],
   "metadata": {}
  },
  {
   "cell_type": "code",
   "execution_count": 1,
   "source": [
    "def train(net, train_features, train_labels, test_features, test_labels,\r\n",
    "          num_epochs, learning_rate, weight_deacy, batch_size):\r\n",
    "    train_ls, test_ls = [], []\r\n",
    "    train_iter = d2l.load_array((train_features, train_labels), batch_size)\r\n",
    "    # 不使用SGD，而是使用Adam优化算法，对学习率不敏感\r\n",
    "    updater = torch.optim.Adam(net.parameters(), lr=learning_rate, weight_decay=weight_deacy)\r\n",
    "\r\n",
    "    for epoch in range(num_epochs):\r\n",
    "        for X, y in train_iter:\r\n",
    "            l = loss(net(X), y)\r\n",
    "            updater.zero_grad()\r\n",
    "            l.backward()\r\n",
    "            updater.step()\r\n",
    "        train_ls.append(log_rmse(net, train_features, train_labels))\r\n",
    "        if test_labels is not None:\r\n",
    "            test_ls.append(log_rmse(net, test_features, test_labels))\r\n",
    "    return train_ls, test_ls"
   ],
   "outputs": [],
   "metadata": {}
  },
  {
   "cell_type": "code",
   "execution_count": null,
   "source": [],
   "outputs": [],
   "metadata": {}
  }
 ],
 "metadata": {
  "orig_nbformat": 4,
  "language_info": {
   "name": "python",
   "version": "3.8.5",
   "mimetype": "text/x-python",
   "codemirror_mode": {
    "name": "ipython",
    "version": 3
   },
   "pygments_lexer": "ipython3",
   "nbconvert_exporter": "python",
   "file_extension": ".py"
  },
  "kernelspec": {
   "name": "python3",
   "display_name": "Python 3.8.5 64-bit ('d2l': conda)"
  },
  "interpreter": {
   "hash": "79f87afa472d0632e2328351e62237a72635958f39bb47ba71eef21dafdaa998"
  }
 },
 "nbformat": 4,
 "nbformat_minor": 2
}