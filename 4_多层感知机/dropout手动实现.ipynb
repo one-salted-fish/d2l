{
 "cells": [
  {
   "cell_type": "code",
   "execution_count": 1,
   "source": [
    "import torch\r\n",
    "from torch import nn\r\n",
    "from d2l import torch as d2l"
   ],
   "outputs": [],
   "metadata": {}
  },
  {
   "cell_type": "code",
   "execution_count": 2,
   "source": [
    "# 定义dropout层\r\n",
    "def dropout_layer(X, dropout):  # dropout指的是丢弃率\r\n",
    "    assert 0 <= dropout <= 1\r\n",
    "    if dropout == 1:\r\n",
    "        return torch.zeros_like(X)  # 全部丢弃\r\n",
    "    if dropout == 0:\r\n",
    "        return X    # 不丢弃\r\n",
    "    # 这里mask是一个只有0-1的向量\r\n",
    "    # 先随机生成一个0-1均匀分布的向量，必然有dropout概率的值小于dropout，将它们设置为0\r\n",
    "    mask = (torch.rand(X.shape) > dropout).float()\r\n",
    "    return mask * X / (1.0 - dropout)"
   ],
   "outputs": [],
   "metadata": {}
  },
  {
   "cell_type": "code",
   "execution_count": 3,
   "source": [
    "# 测试函数功能是否正常\r\n",
    "X= torch.arange(16, dtype = torch.float32).reshape((2, 8))\r\n",
    "print(X)\r\n",
    "print(dropout_layer(X, 0.))\r\n",
    "print(dropout_layer(X, 0.5))\r\n",
    "print(dropout_layer(X, 1.))"
   ],
   "outputs": [
    {
     "output_type": "stream",
     "name": "stdout",
     "text": [
      "tensor([[ 0.,  1.,  2.,  3.,  4.,  5.,  6.,  7.],\n",
      "        [ 8.,  9., 10., 11., 12., 13., 14., 15.]])\n",
      "tensor([[ 0.,  1.,  2.,  3.,  4.,  5.,  6.,  7.],\n",
      "        [ 8.,  9., 10., 11., 12., 13., 14., 15.]])\n",
      "tensor([[ 0.,  2.,  4.,  6.,  8., 10., 12., 14.],\n",
      "        [ 0., 18.,  0., 22.,  0., 26., 28.,  0.]])\n",
      "tensor([[0., 0., 0., 0., 0., 0., 0., 0.],\n",
      "        [0., 0., 0., 0., 0., 0., 0., 0.]])\n"
     ]
    }
   ],
   "metadata": {}
  },
  {
   "cell_type": "code",
   "execution_count": null,
   "source": [],
   "outputs": [],
   "metadata": {}
  }
 ],
 "metadata": {
  "orig_nbformat": 4,
  "language_info": {
   "name": "python",
   "version": "3.8.5",
   "mimetype": "text/x-python",
   "codemirror_mode": {
    "name": "ipython",
    "version": 3
   },
   "pygments_lexer": "ipython3",
   "nbconvert_exporter": "python",
   "file_extension": ".py"
  },
  "kernelspec": {
   "name": "python3",
   "display_name": "Python 3.8.5 64-bit ('d2l': conda)"
  },
  "interpreter": {
   "hash": "79f87afa472d0632e2328351e62237a72635958f39bb47ba71eef21dafdaa998"
  }
 },
 "nbformat": 4,
 "nbformat_minor": 2
}